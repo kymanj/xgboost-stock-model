{
 "cells": [
  {
   "cell_type": "markdown",
   "metadata": {},
   "source": [
    "# Scrape HSI Constituents from official website\n",
    "\n",
    "This script is used to construct a time series Hang Seng Index universe based on customized date list\n",
    "\n",
    "Three steps are involved:\n",
    "\n",
    "1. Scrape raw files from Hang Seng website (<a href=\"https://www.hsi.com.hk/eng/indexes/all-indexes/hsi\">HSI Official Website</a>)\n",
    "2. Clean the raw files\n",
    "3. Construct a time series universe based on the cleaned raw files.\n",
    "\n",
    "Scrapy is preferred for web scraping in most cases but not in this case because it can't easily scrape with JavaScript. In this case, we need to click 2 JavaScript buttons to download below 2 raw files.\n",
    "\n",
    "1. Latest Constituents\n",
    "2. Historical Change in HSI\n",
    "\n",
    "With above 2 files, we could easily construct the time series universe. Cleaned and uncleaned raw files will be showing as well. \n",
    "\n",
    "Another key note is HK Date List. Our date list must in HK trading calendar. Only HK trading date will be considered as valid input when downloading latest constituent file from the website.\n",
    "\n",
    "Finally, we will generate a csv file named hsiUniverseDf.\n",
    "\n",
    "- We must put <a href=\"https://stackoverflow.com/questions/41190989/how-do-i-install-geckodriver\">geckodriver.exe</a> into the bin folder under our python folder in order to use Firefox as a webdriver under selenium. (I'm using Mac)"
   ]
  },
  {
   "cell_type": "code",
   "execution_count": 2,
   "metadata": {},
   "outputs": [],
   "source": [
    "import pandas as pd\n",
    "import numpy as np\n",
    "from selenium import webdriver\n",
    "from selenium.webdriver.support.ui import Select\n",
    "from selenium.webdriver.common.by import By\n",
    "from selenium.webdriver.firefox.options import Options\n",
    "from selenium.webdriver.support.ui import WebDriverWait\n",
    "from selenium.webdriver.support import expected_conditions as EC\n",
    "from dateutil.relativedelta import relativedelta\n",
    "from datetime import date\n",
    "import os\n",
    "import re\n",
    "import shutil\n",
    "import time\n",
    "import holidays\n",
    "import glob"
   ]
  },
  {
   "cell_type": "code",
   "execution_count": 3,
   "metadata": {},
   "outputs": [],
   "source": [
    "def getHKDateList(startDate, endDate, frequency):\n",
    "    # Get dateList according to HK Calendar\n",
    "    dateList = pd.date_range(start=startDate, end=endDate, freq=frequency)\n",
    "    hkHolidays = holidays.HK()\n",
    "    dateList = [date if date not in hkHolidays else \n",
    "                max([loopDate for loopDate in pd.date_range(start=date-relativedelta(days=14), end=date, freq='D') if \n",
    "                     loopDate not in hkHolidays and loopDate.weekday() != 5 and loopDate.weekday() != 6]) \n",
    "                for date in dateList]\n",
    "    del hkHolidays\n",
    "    return dateList\n",
    "    \n",
    "def downloadRawFiles(downloadPath):\n",
    "    print(downloadPath)\n",
    "    print('Start downloading HSI files to above path.')\n",
    "    \n",
    "    # Create dowload folder if it's not exist\n",
    "    if os.path.isdir(downloadPath) == False:\n",
    "        os.mkdir(downloadPath)\n",
    "        print('Created ' + downloadPath + ' as it is not exist')\n",
    "    \n",
    "    # Clean download folder if past files exist\n",
    "    oldFileList = [downloadPath + \"/\" + f for f in os.listdir(downloadPath) if f == 'hsiCons.csv' or f == 'hsiConsChange.xlsx']\n",
    "    \n",
    "    if oldFileList != []:\n",
    "        for file in oldFileList:\n",
    "            os.remove(file)\n",
    "    \n",
    "    # Get Latest Month HK Date List\n",
    "    latestDate = date.today() - relativedelta(days=1)\n",
    "    dateList = getHKDateList(startDate=latestDate - relativedelta(months=1), endDate=latestDate, frequency='D')\n",
    "    \n",
    "    # Firefox Setting -> Headless\n",
    "    options = Options()\n",
    "    options.headless = True\n",
    "    \n",
    "    # Firefox Setting -> Change download path for this task\n",
    "    profile = webdriver.FirefoxProfile()\n",
    "    profile.set_preference(\"browser.download.folderList\", 2)\n",
    "    profile.set_preference(\"browser.download.manager.showWhenStarting\", False)\n",
    "    profile.set_preference(\"browser.download.dir\", downloadPath)\n",
    "    profile.set_preference(\"browser.helperApps.neverAsk.saveToDisk\", \"text/csv\")\n",
    "    \n",
    "    # Link to the website\n",
    "    driver = webdriver.Firefox(firefox_profile=profile, options=options)\n",
    "    driver.get('https://www.hsi.com.hk/eng/indexes/all-indexes/hsi')\n",
    "    timeout = 20\n",
    "    try:\n",
    "        element_present = EC.presence_of_element_located((By.XPATH, \"//input[@aria-label='Calendar input field']\"))\n",
    "        WebDriverWait(driver, timeout).until(element_present)\n",
    "        time.sleep(5)\n",
    "    except TimeoutException:\n",
    "        print(\"Timed out waiting for page to load\")\n",
    "        \n",
    "    ##### Download Last Date Constituents CSV #####\n",
    "    \n",
    "    # Select report type in daily report\n",
    "    selectReport = Select(driver.find_element_by_id('reportType'))\n",
    "    selectReport.select_by_visible_text('Constituent Daily Performance (csv format)')\n",
    "    \n",
    "    # Input date\n",
    "    latestDate = dateList[-1]\n",
    "    inputDate = latestDate.strftime('%d%m%Y') \n",
    "    datePicker = driver.find_element(By.XPATH, \"//input[@aria-label='Calendar input field']\")\n",
    "    datePicker.send_keys(inputDate)\n",
    "\n",
    "    # Click download button\n",
    "    downloadButton = driver.find_element(By.XPATH, \"//button[@class='commonBtn' and @href='javascript:void(0);']\")\n",
    "    downloadButton.click()\n",
    "    \n",
    "    # Rename file - it should take a few seconds to download the file\n",
    "    time.sleep(3)\n",
    "    filename = max([downloadPath + \"/\" + f for f in os.listdir(downloadPath)],key=os.path.getctime)\n",
    "    shutil.move(filename,os.path.join(downloadPath,\"hsiCons.csv\"))\n",
    "    \n",
    "    ##### Download Constituents Change File #####\n",
    "    \n",
    "    # Input blank date to disable constituents download button\n",
    "    datePicker.send_keys('')\n",
    "    \n",
    "    # Select input in historical change of constituents\n",
    "    selectInput = Select(driver.find_element_by_id('constituentsSelect'))\n",
    "    selectInput.select_by_visible_text('Hang Seng Index and Sub-indexes')\n",
    "    \n",
    "    # Click View button\n",
    "    viewButton = driver.find_element(By.XPATH, \"//button[@class='commonBtn' and @href='javascript:void(0);']\")\n",
    "    viewButton.click()\n",
    "    \n",
    "    # Rename file - it should take a few seconds to download the file\n",
    "    time.sleep(3)\n",
    "    filename = max([downloadPath + \"/\" + f for f in os.listdir(downloadPath)],key=os.path.getctime)\n",
    "    shutil.move(filename,os.path.join(downloadPath,\"hsiConsChange.xlsx\"))\n",
    "    \n",
    "    driver.quit()\n",
    "    return print('Finished Downloading Raw Files for Date: ' + startDate + ' - ' + endDate)"
   ]
  },
  {
   "cell_type": "markdown",
   "metadata": {},
   "source": [
    "# Input"
   ]
  },
  {
   "cell_type": "code",
   "execution_count": 4,
   "metadata": {},
   "outputs": [],
   "source": [
    "# downloadPath = \"/Users/Your Download Path\"\n",
    "downloadPath = \"/Users/kayinman2/Desktop/Github/HS Factors/HSI Cons\"\n",
    "startDate = \"20090930\"\n",
    "endDate = \"20190930\"\n",
    "frequency = \"BM\""
   ]
  },
  {
   "cell_type": "markdown",
   "metadata": {},
   "source": [
    "# Download Raw Files from Web"
   ]
  },
  {
   "cell_type": "code",
   "execution_count": 5,
   "metadata": {},
   "outputs": [
    {
     "name": "stdout",
     "output_type": "stream",
     "text": [
      "/Users/kayinman2/Desktop/Github/HS Factors/HSI Cons\n",
      "Start downloading HSI files to above path.\n",
      "Finished Downloading Raw Files for Date: 20090930 - 20190930\n"
     ]
    }
   ],
   "source": [
    "downloadRawFiles(downloadPath)"
   ]
  },
  {
   "cell_type": "markdown",
   "metadata": {},
   "source": [
    "# Read Raw Files and Clean Data"
   ]
  },
  {
   "cell_type": "markdown",
   "metadata": {},
   "source": [
    "#### HK Date List"
   ]
  },
  {
   "cell_type": "code",
   "execution_count": 6,
   "metadata": {},
   "outputs": [],
   "source": [
    "hkDateList = getHKDateList(startDate=startDate, endDate=endDate, frequency=frequency)"
   ]
  },
  {
   "cell_type": "code",
   "execution_count": 7,
   "metadata": {},
   "outputs": [
    {
     "data": {
      "text/plain": [
       "[Timestamp('2009-09-30 00:00:00', freq='BM'),\n",
       " Timestamp('2009-10-30 00:00:00', freq='BM'),\n",
       " Timestamp('2009-11-30 00:00:00', freq='BM'),\n",
       " Timestamp('2009-12-31 00:00:00', freq='BM'),\n",
       " Timestamp('2010-01-29 00:00:00', freq='BM')]"
      ]
     },
     "execution_count": 7,
     "metadata": {},
     "output_type": "execute_result"
    }
   ],
   "source": [
    "hkDateList[:5]"
   ]
  },
  {
   "cell_type": "markdown",
   "metadata": {},
   "source": [
    "#### HSI Constituents"
   ]
  },
  {
   "cell_type": "code",
   "execution_count": 8,
   "metadata": {},
   "outputs": [],
   "source": [
    "hsiConsRaw = pd.read_csv(downloadPath + '/hsiCons.csv', low_memory=False, encoding=\"utf-16\")"
   ]
  },
  {
   "cell_type": "code",
   "execution_count": 9,
   "metadata": {},
   "outputs": [
    {
     "data": {
      "text/html": [
       "<div>\n",
       "<style scoped>\n",
       "    .dataframe tbody tr th:only-of-type {\n",
       "        vertical-align: middle;\n",
       "    }\n",
       "\n",
       "    .dataframe tbody tr th {\n",
       "        vertical-align: top;\n",
       "    }\n",
       "\n",
       "    .dataframe thead th {\n",
       "        text-align: right;\n",
       "    }\n",
       "</style>\n",
       "<table border=\"1\" class=\"dataframe\">\n",
       "  <thead>\n",
       "    <tr style=\"text-align: right;\">\n",
       "      <th></th>\n",
       "      <th>交易日\\t\"指數\"\\t\"股份代號\"\\t\"股份名稱\"\\t\"股份名稱\"\\t\"上市交易所\"\\t\"行業\"\\t\"交易貨幣\"\\t\"收市價\"\\t\"百分比變動\"\\t\"對指數升跌影響\"\\t\"比重 (%)\"\\t\"於恒生金融分類指數比重 (%)\"\\t\"於恒生公用事業分類指數比重 (%)\"\\t\"於恒生地產分類指數比重 (%)\"\\t\"於恒生工商業分類指數比重 (%)\"</th>\n",
       "    </tr>\n",
       "  </thead>\n",
       "  <tbody>\n",
       "    <tr>\n",
       "      <td>0</td>\n",
       "      <td>Trade Date\\t\"Index\"\\t\"Stock Code\"\\t\"Stock Name...</td>\n",
       "    </tr>\n",
       "    <tr>\n",
       "      <td>1</td>\n",
       "      <td>20191106\\t\"Hang Seng Index 恒生指數\"\\t\"0001.HK\"\\t\"...</td>\n",
       "    </tr>\n",
       "    <tr>\n",
       "      <td>2</td>\n",
       "      <td>20191106\\t\"Hang Seng Index 恒生指數\"\\t\"0002.HK\"\\t\"...</td>\n",
       "    </tr>\n",
       "  </tbody>\n",
       "</table>\n",
       "</div>"
      ],
      "text/plain": [
       "  交易日\\t\"指數\"\\t\"股份代號\"\\t\"股份名稱\"\\t\"股份名稱\"\\t\"上市交易所\"\\t\"行業\"\\t\"交易貨幣\"\\t\"收市價\"\\t\"百分比變動\"\\t\"對指數升跌影響\"\\t\"比重 (%)\"\\t\"於恒生金融分類指數比重 (%)\"\\t\"於恒生公用事業分類指數比重 (%)\"\\t\"於恒生地產分類指數比重 (%)\"\\t\"於恒生工商業分類指數比重 (%)\"\n",
       "0  Trade Date\\t\"Index\"\\t\"Stock Code\"\\t\"Stock Name...                                                                                                                          \n",
       "1  20191106\\t\"Hang Seng Index 恒生指數\"\\t\"0001.HK\"\\t\"...                                                                                                                          \n",
       "2  20191106\\t\"Hang Seng Index 恒生指數\"\\t\"0002.HK\"\\t\"...                                                                                                                          "
      ]
     },
     "execution_count": 9,
     "metadata": {},
     "output_type": "execute_result"
    }
   ],
   "source": [
    "hsiConsRaw.head(3)"
   ]
  },
  {
   "cell_type": "code",
   "execution_count": 10,
   "metadata": {},
   "outputs": [],
   "source": [
    "def reconstructHSICons(hsiConsRaw):\n",
    "    consDf = hsiConsRaw.iloc[:,0].str.split(\"\\t\", expand = True)\n",
    "    consDf = consDf.apply(lambda x: x.str.replace('\"', ''))\n",
    "    consDf = consDf.apply(lambda x: x.str.strip())\n",
    "    \n",
    "    consDf.columns = consDf.iloc[0,:]\n",
    "    consDf = consDf.iloc[1:,:]\n",
    "    \n",
    "    return consDf"
   ]
  },
  {
   "cell_type": "code",
   "execution_count": 11,
   "metadata": {},
   "outputs": [],
   "source": [
    "hsiCons = reconstructHSICons(hsiConsRaw=hsiConsRaw)"
   ]
  },
  {
   "cell_type": "code",
   "execution_count": 12,
   "metadata": {},
   "outputs": [
    {
     "data": {
      "text/html": [
       "<div>\n",
       "<style scoped>\n",
       "    .dataframe tbody tr th:only-of-type {\n",
       "        vertical-align: middle;\n",
       "    }\n",
       "\n",
       "    .dataframe tbody tr th {\n",
       "        vertical-align: top;\n",
       "    }\n",
       "\n",
       "    .dataframe thead th {\n",
       "        text-align: right;\n",
       "    }\n",
       "</style>\n",
       "<table border=\"1\" class=\"dataframe\">\n",
       "  <thead>\n",
       "    <tr style=\"text-align: right;\">\n",
       "      <th></th>\n",
       "      <th>Trade Date</th>\n",
       "      <th>Index</th>\n",
       "      <th>Stock Code</th>\n",
       "      <th>Stock Name</th>\n",
       "      <th>Stock Name</th>\n",
       "      <th>Exchange Listed</th>\n",
       "      <th>Industry</th>\n",
       "      <th>Trading Currency</th>\n",
       "      <th>Closing Price</th>\n",
       "      <th>% Change</th>\n",
       "      <th>Index Point Contribution</th>\n",
       "      <th>Weighting (%)</th>\n",
       "      <th>Weighting in HSI - Finance (%)</th>\n",
       "      <th>Weighting in HSI - Utilities (%)</th>\n",
       "      <th>Weighting in HSI - Properties (%)</th>\n",
       "      <th>Weighting in HSI - Commerce &amp; Industry (%)</th>\n",
       "    </tr>\n",
       "  </thead>\n",
       "  <tbody>\n",
       "    <tr>\n",
       "      <td>1</td>\n",
       "      <td>20191106</td>\n",
       "      <td>Hang Seng Index 恒生指數</td>\n",
       "      <td>0001.HK</td>\n",
       "      <td>CKH HOLDINGS</td>\n",
       "      <td>長和</td>\n",
       "      <td>Hong Kong 香港</td>\n",
       "      <td>80 Conglomerates 綜合企業</td>\n",
       "      <td>HKD</td>\n",
       "      <td>74.75</td>\n",
       "      <td>0.95</td>\n",
       "      <td>5.74</td>\n",
       "      <td>2.21</td>\n",
       "      <td></td>\n",
       "      <td></td>\n",
       "      <td></td>\n",
       "      <td>6.34</td>\n",
       "    </tr>\n",
       "    <tr>\n",
       "      <td>2</td>\n",
       "      <td>20191106</td>\n",
       "      <td>Hang Seng Index 恒生指數</td>\n",
       "      <td>0002.HK</td>\n",
       "      <td>CLP HOLDINGS</td>\n",
       "      <td>中電控股</td>\n",
       "      <td>Hong Kong 香港</td>\n",
       "      <td>40 Utilities 公用事業</td>\n",
       "      <td>HKD</td>\n",
       "      <td>83.3</td>\n",
       "      <td>0.06</td>\n",
       "      <td>0.29</td>\n",
       "      <td>1.73</td>\n",
       "      <td></td>\n",
       "      <td>36.14</td>\n",
       "      <td></td>\n",
       "      <td></td>\n",
       "    </tr>\n",
       "    <tr>\n",
       "      <td>3</td>\n",
       "      <td>20191106</td>\n",
       "      <td>Hang Seng Index 恒生指數</td>\n",
       "      <td>0003.HK</td>\n",
       "      <td>HK &amp; CHINA GAS</td>\n",
       "      <td>香港中華煤氣</td>\n",
       "      <td>Hong Kong 香港</td>\n",
       "      <td>40 Utilities 公用事業</td>\n",
       "      <td>HKD</td>\n",
       "      <td>15.34</td>\n",
       "      <td>-0.65</td>\n",
       "      <td>-3.08</td>\n",
       "      <td>1.71</td>\n",
       "      <td></td>\n",
       "      <td>35.67</td>\n",
       "      <td></td>\n",
       "      <td></td>\n",
       "    </tr>\n",
       "  </tbody>\n",
       "</table>\n",
       "</div>"
      ],
      "text/plain": [
       "0 Trade Date                 Index Stock Code      Stock Name Stock Name  \\\n",
       "1   20191106  Hang Seng Index 恒生指數    0001.HK    CKH HOLDINGS         長和   \n",
       "2   20191106  Hang Seng Index 恒生指數    0002.HK    CLP HOLDINGS       中電控股   \n",
       "3   20191106  Hang Seng Index 恒生指數    0003.HK  HK & CHINA GAS     香港中華煤氣   \n",
       "\n",
       "0 Exchange Listed               Industry Trading Currency Closing Price  \\\n",
       "1    Hong Kong 香港  80 Conglomerates 綜合企業              HKD         74.75   \n",
       "2    Hong Kong 香港      40 Utilities 公用事業              HKD          83.3   \n",
       "3    Hong Kong 香港      40 Utilities 公用事業              HKD         15.34   \n",
       "\n",
       "0 % Change Index Point Contribution Weighting (%)  \\\n",
       "1     0.95                     5.74          2.21   \n",
       "2     0.06                     0.29          1.73   \n",
       "3    -0.65                    -3.08          1.71   \n",
       "\n",
       "0 Weighting in HSI - Finance (%) Weighting in HSI - Utilities (%)  \\\n",
       "1                                                                   \n",
       "2                                                           36.14   \n",
       "3                                                           35.67   \n",
       "\n",
       "0 Weighting in HSI - Properties (%) Weighting in HSI - Commerce & Industry (%)  \n",
       "1                                                                         6.34  \n",
       "2                                                                               \n",
       "3                                                                               "
      ]
     },
     "execution_count": 12,
     "metadata": {},
     "output_type": "execute_result"
    }
   ],
   "source": [
    "hsiCons.head(3)"
   ]
  },
  {
   "cell_type": "code",
   "execution_count": 13,
   "metadata": {},
   "outputs": [],
   "source": [
    "def finalHSICons(hsiCons):\n",
    "    finalHSICons = hsiCons[['Trade Date', 'Stock Code', 'Stock Name', 'Industry']].copy()  \n",
    "    finalHSICons['Industry'] = finalHSICons['Industry'].apply(lambda x: x.split(' ')[1])\n",
    "    finalHSICons['English Name'] = finalHSICons['Stock Name'].iloc[:,0]\n",
    "    finalHSICons = finalHSICons.drop(columns='Stock Name')\n",
    "    finalHSICons = finalHSICons.rename(columns={'English Name': 'Stock Name'})\n",
    "    finalHSICons['Trade Date'] = finalHSICons['Trade Date'].astype('datetime64[ns]')\n",
    "    return finalHSICons"
   ]
  },
  {
   "cell_type": "code",
   "execution_count": 14,
   "metadata": {},
   "outputs": [],
   "source": [
    "finalHSICons = finalHSICons(hsiCons=hsiCons)"
   ]
  },
  {
   "cell_type": "code",
   "execution_count": 15,
   "metadata": {},
   "outputs": [
    {
     "data": {
      "text/html": [
       "<div>\n",
       "<style scoped>\n",
       "    .dataframe tbody tr th:only-of-type {\n",
       "        vertical-align: middle;\n",
       "    }\n",
       "\n",
       "    .dataframe tbody tr th {\n",
       "        vertical-align: top;\n",
       "    }\n",
       "\n",
       "    .dataframe thead th {\n",
       "        text-align: right;\n",
       "    }\n",
       "</style>\n",
       "<table border=\"1\" class=\"dataframe\">\n",
       "  <thead>\n",
       "    <tr style=\"text-align: right;\">\n",
       "      <th></th>\n",
       "      <th>Trade Date</th>\n",
       "      <th>Stock Code</th>\n",
       "      <th>Industry</th>\n",
       "      <th>Stock Name</th>\n",
       "    </tr>\n",
       "  </thead>\n",
       "  <tbody>\n",
       "    <tr>\n",
       "      <td>1</td>\n",
       "      <td>2019-11-06</td>\n",
       "      <td>0001.HK</td>\n",
       "      <td>Conglomerates</td>\n",
       "      <td>CKH HOLDINGS</td>\n",
       "    </tr>\n",
       "    <tr>\n",
       "      <td>2</td>\n",
       "      <td>2019-11-06</td>\n",
       "      <td>0002.HK</td>\n",
       "      <td>Utilities</td>\n",
       "      <td>CLP HOLDINGS</td>\n",
       "    </tr>\n",
       "    <tr>\n",
       "      <td>3</td>\n",
       "      <td>2019-11-06</td>\n",
       "      <td>0003.HK</td>\n",
       "      <td>Utilities</td>\n",
       "      <td>HK &amp; CHINA GAS</td>\n",
       "    </tr>\n",
       "  </tbody>\n",
       "</table>\n",
       "</div>"
      ],
      "text/plain": [
       "0 Trade Date Stock Code       Industry      Stock Name\n",
       "1 2019-11-06    0001.HK  Conglomerates    CKH HOLDINGS\n",
       "2 2019-11-06    0002.HK      Utilities    CLP HOLDINGS\n",
       "3 2019-11-06    0003.HK      Utilities  HK & CHINA GAS"
      ]
     },
     "execution_count": 15,
     "metadata": {},
     "output_type": "execute_result"
    }
   ],
   "source": [
    "finalHSICons.head(3)"
   ]
  },
  {
   "cell_type": "code",
   "execution_count": 16,
   "metadata": {},
   "outputs": [
    {
     "name": "stdout",
     "output_type": "stream",
     "text": [
      "<class 'pandas.core.frame.DataFrame'>\n",
      "RangeIndex: 50 entries, 1 to 50\n",
      "Data columns (total 4 columns):\n",
      "Trade Date    50 non-null datetime64[ns]\n",
      "Stock Code    50 non-null object\n",
      "Industry      50 non-null object\n",
      "Stock Name    50 non-null object\n",
      "dtypes: datetime64[ns](1), object(3)\n",
      "memory usage: 1.7+ KB\n"
     ]
    }
   ],
   "source": [
    "finalHSICons.info()"
   ]
  },
  {
   "cell_type": "markdown",
   "metadata": {},
   "source": [
    "#### HSI Constituents Historical Change"
   ]
  },
  {
   "cell_type": "code",
   "execution_count": 17,
   "metadata": {},
   "outputs": [],
   "source": [
    "consHistChg = pd.read_excel(downloadPath + '/hsiConsChange.xlsx')"
   ]
  },
  {
   "cell_type": "code",
   "execution_count": 18,
   "metadata": {},
   "outputs": [
    {
     "data": {
      "text/html": [
       "<div>\n",
       "<style scoped>\n",
       "    .dataframe tbody tr th:only-of-type {\n",
       "        vertical-align: middle;\n",
       "    }\n",
       "\n",
       "    .dataframe tbody tr th {\n",
       "        vertical-align: top;\n",
       "    }\n",
       "\n",
       "    .dataframe thead th {\n",
       "        text-align: right;\n",
       "    }\n",
       "</style>\n",
       "<table border=\"1\" class=\"dataframe\">\n",
       "  <thead>\n",
       "    <tr style=\"text-align: right;\">\n",
       "      <th></th>\n",
       "      <th>Constituent Changes in Hang Seng Index</th>\n",
       "      <th>Unnamed: 1</th>\n",
       "      <th>Unnamed: 2</th>\n",
       "      <th>Unnamed: 3</th>\n",
       "      <th>Unnamed: 4</th>\n",
       "      <th>Unnamed: 5</th>\n",
       "      <th>Unnamed: 6</th>\n",
       "      <th>Unnamed: 7</th>\n",
       "    </tr>\n",
       "  </thead>\n",
       "  <tbody>\n",
       "    <tr>\n",
       "      <td>0</td>\n",
       "      <td>恒生指數之成份股變動</td>\n",
       "      <td>NaN</td>\n",
       "      <td>NaN</td>\n",
       "      <td>NaN</td>\n",
       "      <td>NaN</td>\n",
       "      <td>NaN</td>\n",
       "      <td>NaN</td>\n",
       "      <td>NaN</td>\n",
       "    </tr>\n",
       "    <tr>\n",
       "      <td>1</td>\n",
       "      <td>NaN</td>\n",
       "      <td>NaN</td>\n",
       "      <td>NaN</td>\n",
       "      <td>NaN</td>\n",
       "      <td>NaN</td>\n",
       "      <td>NaN</td>\n",
       "      <td>NaN</td>\n",
       "      <td>NaN</td>\n",
       "    </tr>\n",
       "    <tr>\n",
       "      <td>2</td>\n",
       "      <td>NaN</td>\n",
       "      <td>NaN</td>\n",
       "      <td>NaN</td>\n",
       "      <td>NaN</td>\n",
       "      <td>NaN</td>\n",
       "      <td>NaN</td>\n",
       "      <td>NaN</td>\n",
       "      <td>NaN</td>\n",
       "    </tr>\n",
       "    <tr>\n",
       "      <td>3</td>\n",
       "      <td>Effective Date 生效日期</td>\n",
       "      <td>No. of Constituents</td>\n",
       "      <td>Change 變動</td>\n",
       "      <td>Count 數目</td>\n",
       "      <td>Stock Code 股份代號</td>\n",
       "      <td>Listing Place 上市地點</td>\n",
       "      <td>Stock Name</td>\n",
       "      <td>股份名稱</td>\n",
       "    </tr>\n",
       "    <tr>\n",
       "      <td>4</td>\n",
       "      <td>NaN</td>\n",
       "      <td>(After Change) 成份股數目 (變動後)</td>\n",
       "      <td>NaN</td>\n",
       "      <td>NaN</td>\n",
       "      <td>NaN</td>\n",
       "      <td>NaN</td>\n",
       "      <td>NaN</td>\n",
       "      <td>NaN</td>\n",
       "    </tr>\n",
       "    <tr>\n",
       "      <td>5</td>\n",
       "      <td>2019-03-11</td>\n",
       "      <td>50</td>\n",
       "      <td>Add 加入</td>\n",
       "      <td>+1</td>\n",
       "      <td>669</td>\n",
       "      <td>Hong Kong 香港</td>\n",
       "      <td>TECHTRONIC IND</td>\n",
       "      <td>創科實業</td>\n",
       "    </tr>\n",
       "    <tr>\n",
       "      <td>6</td>\n",
       "      <td>2019-03-11</td>\n",
       "      <td>50</td>\n",
       "      <td>Delete 刪除</td>\n",
       "      <td>-1</td>\n",
       "      <td>836</td>\n",
       "      <td>Hong Kong 香港</td>\n",
       "      <td>CHINA RES POWER</td>\n",
       "      <td>華潤電力</td>\n",
       "    </tr>\n",
       "  </tbody>\n",
       "</table>\n",
       "</div>"
      ],
      "text/plain": [
       "  Constituent Changes in Hang Seng Index                  Unnamed: 1  \\\n",
       "0                             恒生指數之成份股變動                         NaN   \n",
       "1                                    NaN                         NaN   \n",
       "2                                    NaN                         NaN   \n",
       "3                    Effective Date 生效日期         No. of Constituents   \n",
       "4                                    NaN  (After Change) 成份股數目 (變動後)   \n",
       "5                             2019-03-11                          50   \n",
       "6                             2019-03-11                          50   \n",
       "\n",
       "  Unnamed: 2 Unnamed: 3       Unnamed: 4          Unnamed: 5       Unnamed: 6  \\\n",
       "0        NaN        NaN              NaN                 NaN              NaN   \n",
       "1        NaN        NaN              NaN                 NaN              NaN   \n",
       "2        NaN        NaN              NaN                 NaN              NaN   \n",
       "3  Change 變動   Count 數目  Stock Code 股份代號  Listing Place 上市地點       Stock Name   \n",
       "4        NaN        NaN              NaN                 NaN              NaN   \n",
       "5     Add 加入         +1              669        Hong Kong 香港   TECHTRONIC IND   \n",
       "6  Delete 刪除         -1              836        Hong Kong 香港  CHINA RES POWER   \n",
       "\n",
       "  Unnamed: 7  \n",
       "0        NaN  \n",
       "1        NaN  \n",
       "2        NaN  \n",
       "3       股份名稱  \n",
       "4        NaN  \n",
       "5       創科實業  \n",
       "6       華潤電力  "
      ]
     },
     "execution_count": 18,
     "metadata": {},
     "output_type": "execute_result"
    }
   ],
   "source": [
    "consHistChg.head(7)"
   ]
  },
  {
   "cell_type": "code",
   "execution_count": 19,
   "metadata": {},
   "outputs": [],
   "source": [
    "def finalHistChgDf(consHistChg):\n",
    "    histChgDf = consHistChg.iloc[3:,:]\n",
    "    histChgDf.columns = histChgDf.iloc[0,:]\n",
    "    histChgDf = histChgDf[[column for column in histChgDf.columns if \n",
    "                           'Effective Date' in column or 'Change' in column or 'Stock' in column]].copy()\n",
    "    histChgDf.columns = ['Effective Date' if 'Effective Date' in column else \n",
    "                         'Change' if 'Change' in column else \n",
    "                         'Stock Code' if 'Stock Code' in column else \n",
    "                         'Stock Name' if 'Stock Name' in column else None for \n",
    "                         column in histChgDf.columns]\n",
    "    histChgDf = histChgDf.iloc[2:,:]\n",
    "    histChgDf = histChgDf.dropna(subset=['Stock Code'])\n",
    "    histChgDf['Change'] = [1 if 'Add' in change else -1 if 'Delete' in change else np.nan \n",
    "                           for change in histChgDf['Change']]\n",
    "    histChgDf['Effective Date'] = histChgDf['Effective Date'].astype('datetime64[ns]')\n",
    "    histChgDf['Stock Code'] = [(str(code) + '.HK').rjust(7,str(0)) for code in histChgDf['Stock Code']]\n",
    "    return histChgDf"
   ]
  },
  {
   "cell_type": "code",
   "execution_count": 20,
   "metadata": {},
   "outputs": [],
   "source": [
    "histChgDf = finalHistChgDf(consHistChg=consHistChg)"
   ]
  },
  {
   "cell_type": "code",
   "execution_count": 21,
   "metadata": {},
   "outputs": [
    {
     "data": {
      "text/html": [
       "<div>\n",
       "<style scoped>\n",
       "    .dataframe tbody tr th:only-of-type {\n",
       "        vertical-align: middle;\n",
       "    }\n",
       "\n",
       "    .dataframe tbody tr th {\n",
       "        vertical-align: top;\n",
       "    }\n",
       "\n",
       "    .dataframe thead th {\n",
       "        text-align: right;\n",
       "    }\n",
       "</style>\n",
       "<table border=\"1\" class=\"dataframe\">\n",
       "  <thead>\n",
       "    <tr style=\"text-align: right;\">\n",
       "      <th></th>\n",
       "      <th>Effective Date</th>\n",
       "      <th>Change</th>\n",
       "      <th>Stock Code</th>\n",
       "      <th>Stock Name</th>\n",
       "    </tr>\n",
       "  </thead>\n",
       "  <tbody>\n",
       "    <tr>\n",
       "      <td>5</td>\n",
       "      <td>2019-03-11</td>\n",
       "      <td>1</td>\n",
       "      <td>0669.HK</td>\n",
       "      <td>TECHTRONIC IND</td>\n",
       "    </tr>\n",
       "    <tr>\n",
       "      <td>6</td>\n",
       "      <td>2019-03-11</td>\n",
       "      <td>-1</td>\n",
       "      <td>0836.HK</td>\n",
       "      <td>CHINA RES POWER</td>\n",
       "    </tr>\n",
       "    <tr>\n",
       "      <td>7</td>\n",
       "      <td>2018-09-10</td>\n",
       "      <td>1</td>\n",
       "      <td>1177.HK</td>\n",
       "      <td>SINO BIOPHARM</td>\n",
       "    </tr>\n",
       "    <tr>\n",
       "      <td>8</td>\n",
       "      <td>2018-09-10</td>\n",
       "      <td>1</td>\n",
       "      <td>2313.HK</td>\n",
       "      <td>SHENZHOU INTL</td>\n",
       "    </tr>\n",
       "    <tr>\n",
       "      <td>9</td>\n",
       "      <td>2018-09-10</td>\n",
       "      <td>-1</td>\n",
       "      <td>0023.HK</td>\n",
       "      <td>BANK OF E ASIA</td>\n",
       "    </tr>\n",
       "  </tbody>\n",
       "</table>\n",
       "</div>"
      ],
      "text/plain": [
       "  Effective Date  Change Stock Code       Stock Name\n",
       "5     2019-03-11       1    0669.HK   TECHTRONIC IND\n",
       "6     2019-03-11      -1    0836.HK  CHINA RES POWER\n",
       "7     2018-09-10       1    1177.HK    SINO BIOPHARM\n",
       "8     2018-09-10       1    2313.HK    SHENZHOU INTL\n",
       "9     2018-09-10      -1    0023.HK   BANK OF E ASIA"
      ]
     },
     "execution_count": 21,
     "metadata": {},
     "output_type": "execute_result"
    }
   ],
   "source": [
    "histChgDf.head()"
   ]
  },
  {
   "cell_type": "markdown",
   "metadata": {},
   "source": [
    "# Generate universe from Date List and Cleaned Raw Files"
   ]
  },
  {
   "cell_type": "code",
   "execution_count": 22,
   "metadata": {},
   "outputs": [],
   "source": [
    "def generateUniverse(hkDateList, finalHSICons, histChgDf):\n",
    "    universeDfList = []\n",
    "    latestUniverseDf = finalHSICons[['Stock Code', 'Trade Date']].copy().rename(columns={'Trade Date': 'Update Date'})\n",
    "    reverseDateList = sorted(hkDateList, reverse=True)\n",
    "    for date in reverseDateList:\n",
    "        latestDate = pd.Timestamp(latestUniverseDf['Update Date'].drop_duplicates().values[0])\n",
    "        thisPeriodChgDf = histChgDf[(histChgDf['Effective Date'] >= date) & \n",
    "                                    (histChgDf['Effective Date'] <= latestDate)].copy()\n",
    "        if thisPeriodChgDf.empty == True:\n",
    "            latestUniverseDf['Update Date'] = date\n",
    "            thisAppendDf = latestUniverseDf.copy()\n",
    "            universeDfList.append(thisAppendDf)\n",
    "        else:\n",
    "            dropList = [stockCode for stockCode, change in \n",
    "                        np.array(thisPeriodChgDf[['Stock Code', 'Change']]) if change == 1]\n",
    "            addList = [stockCode for stockCode, change in \n",
    "                        np.array(thisPeriodChgDf[['Stock Code', 'Change']]) if change == -1]\n",
    "            \n",
    "            latestUniverseDf = latestUniverseDf[latestUniverseDf['Stock Code'].isin(dropList) == False].copy()\n",
    "            latestUniverseDf['Update Date'] = date\n",
    "            addDf = pd.DataFrame.from_dict({'Stock Code': addList})\n",
    "            addDf['Update Date'] = date\n",
    "            latestUniverseDf = pd.concat([latestUniverseDf, addDf])\n",
    "            thisAppendDf = latestUniverseDf.copy()\n",
    "            universeDfList.append(thisAppendDf)\n",
    "    universeDf = pd.concat(universeDfList)\n",
    "    return universeDf"
   ]
  },
  {
   "cell_type": "code",
   "execution_count": 23,
   "metadata": {},
   "outputs": [],
   "source": [
    "universeDf = generateUniverse(hkDateList, finalHSICons, histChgDf)"
   ]
  },
  {
   "cell_type": "code",
   "execution_count": 24,
   "metadata": {},
   "outputs": [
    {
     "data": {
      "text/html": [
       "<div>\n",
       "<style scoped>\n",
       "    .dataframe tbody tr th:only-of-type {\n",
       "        vertical-align: middle;\n",
       "    }\n",
       "\n",
       "    .dataframe tbody tr th {\n",
       "        vertical-align: top;\n",
       "    }\n",
       "\n",
       "    .dataframe thead th {\n",
       "        text-align: right;\n",
       "    }\n",
       "</style>\n",
       "<table border=\"1\" class=\"dataframe\">\n",
       "  <thead>\n",
       "    <tr style=\"text-align: right;\">\n",
       "      <th></th>\n",
       "      <th>Stock Code</th>\n",
       "      <th>Update Date</th>\n",
       "    </tr>\n",
       "  </thead>\n",
       "  <tbody>\n",
       "    <tr>\n",
       "      <td>1</td>\n",
       "      <td>0001.HK</td>\n",
       "      <td>2019-09-30</td>\n",
       "    </tr>\n",
       "    <tr>\n",
       "      <td>2</td>\n",
       "      <td>0002.HK</td>\n",
       "      <td>2019-09-30</td>\n",
       "    </tr>\n",
       "    <tr>\n",
       "      <td>3</td>\n",
       "      <td>0003.HK</td>\n",
       "      <td>2019-09-30</td>\n",
       "    </tr>\n",
       "    <tr>\n",
       "      <td>4</td>\n",
       "      <td>0005.HK</td>\n",
       "      <td>2019-09-30</td>\n",
       "    </tr>\n",
       "    <tr>\n",
       "      <td>5</td>\n",
       "      <td>0006.HK</td>\n",
       "      <td>2019-09-30</td>\n",
       "    </tr>\n",
       "  </tbody>\n",
       "</table>\n",
       "</div>"
      ],
      "text/plain": [
       "0 Stock Code Update Date\n",
       "1    0001.HK  2019-09-30\n",
       "2    0002.HK  2019-09-30\n",
       "3    0003.HK  2019-09-30\n",
       "4    0005.HK  2019-09-30\n",
       "5    0006.HK  2019-09-30"
      ]
     },
     "execution_count": 24,
     "metadata": {},
     "output_type": "execute_result"
    }
   ],
   "source": [
    "universeDf.head()"
   ]
  },
  {
   "cell_type": "code",
   "execution_count": 25,
   "metadata": {},
   "outputs": [
    {
     "data": {
      "text/html": [
       "<div>\n",
       "<style scoped>\n",
       "    .dataframe tbody tr th:only-of-type {\n",
       "        vertical-align: middle;\n",
       "    }\n",
       "\n",
       "    .dataframe tbody tr th {\n",
       "        vertical-align: top;\n",
       "    }\n",
       "\n",
       "    .dataframe thead th {\n",
       "        text-align: right;\n",
       "    }\n",
       "</style>\n",
       "<table border=\"1\" class=\"dataframe\">\n",
       "  <thead>\n",
       "    <tr style=\"text-align: right;\">\n",
       "      <th></th>\n",
       "      <th>Stock Code</th>\n",
       "      <th>Update Date</th>\n",
       "    </tr>\n",
       "  </thead>\n",
       "  <tbody>\n",
       "    <tr>\n",
       "      <td>0</td>\n",
       "      <td>0001.HK</td>\n",
       "      <td>2009-09-30</td>\n",
       "    </tr>\n",
       "    <tr>\n",
       "      <td>0</td>\n",
       "      <td>1199.HK</td>\n",
       "      <td>2009-09-30</td>\n",
       "    </tr>\n",
       "    <tr>\n",
       "      <td>0</td>\n",
       "      <td>0330.HK</td>\n",
       "      <td>2009-09-30</td>\n",
       "    </tr>\n",
       "    <tr>\n",
       "      <td>0</td>\n",
       "      <td>2600.HK</td>\n",
       "      <td>2009-09-30</td>\n",
       "    </tr>\n",
       "    <tr>\n",
       "      <td>0</td>\n",
       "      <td>2038.HK</td>\n",
       "      <td>2009-09-30</td>\n",
       "    </tr>\n",
       "  </tbody>\n",
       "</table>\n",
       "</div>"
      ],
      "text/plain": [
       "0 Stock Code Update Date\n",
       "0    0001.HK  2009-09-30\n",
       "0    1199.HK  2009-09-30\n",
       "0    0330.HK  2009-09-30\n",
       "0    2600.HK  2009-09-30\n",
       "0    2038.HK  2009-09-30"
      ]
     },
     "execution_count": 25,
     "metadata": {},
     "output_type": "execute_result"
    }
   ],
   "source": [
    "universeDf.tail()"
   ]
  },
  {
   "cell_type": "code",
   "execution_count": 26,
   "metadata": {},
   "outputs": [],
   "source": [
    "universeDf.to_csv('hsiUniverseDf.csv', index=False)"
   ]
  }
 ],
 "metadata": {
  "kernelspec": {
   "display_name": "Python 3",
   "language": "python",
   "name": "python3"
  },
  "language_info": {
   "codemirror_mode": {
    "name": "ipython",
    "version": 3
   },
   "file_extension": ".py",
   "mimetype": "text/x-python",
   "name": "python",
   "nbconvert_exporter": "python",
   "pygments_lexer": "ipython3",
   "version": "3.7.4"
  }
 },
 "nbformat": 4,
 "nbformat_minor": 2
}
